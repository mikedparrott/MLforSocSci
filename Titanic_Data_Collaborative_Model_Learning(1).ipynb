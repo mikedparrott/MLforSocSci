{
  "nbformat": 4,
  "nbformat_minor": 0,
  "metadata": {
    "colab": {
      "name": "Titanic Data Collaborative Model Learning.ipynb",
      "provenance": [],
      "collapsed_sections": []
    },
    "kernelspec": {
      "name": "python3",
      "display_name": "Python 3"
    },
    "language_info": {
      "name": "python"
    }
  },
  "cells": [
    {
      "cell_type": "markdown",
      "metadata": {
        "id": "JXxGTgJz152A"
      },
      "source": [
        "## Titanic Survival Prediction Competition\n",
        "Let's share our models to a centralized leaderboard, so that we can collaborate and learn from the model experimentation process...\n",
        "\n",
        "**Instructions:**\n",
        "1.   Get data in and set up X_train / X_test / y_train\n",
        "2.   Preprocess data using Sklearn Column Transformer / Write and Save Preprocessor function\n",
        "3. Fit model on preprocessed data and save preprocessor function and model \n",
        "4. Generate predictions from X_test data and submit model to competition\n",
        "5. Repeat submission process to improve place on leaderboard\n",
        "\n"
      ]
    },
    {
      "cell_type": "markdown",
      "metadata": {
        "id": "5gSrVJwp3E9H"
      },
      "source": [
        "## 1. Get data in and set up X_train, X_test, y_train objects"
      ]
    },
    {
      "cell_type": "code",
      "metadata": {
        "id": "PLTIaMB3ChSW"
      },
      "source": [
        "#install aimodelshare library\n",
        "! pip install aimodelshare --upgrade"
      ],
      "execution_count": null,
      "outputs": []
    },
    {
      "cell_type": "code",
      "metadata": {
        "colab": {
          "base_uri": "https://localhost:8080/"
        },
        "id": "d3PiJXBhC5y-",
        "outputId": "c500235e-866f-4906-a79f-140f3179958c"
      },
      "source": [
        "# Get competition data\n",
        "from aimodelshare import download_data\n",
        "download_data('public.ecr.aws/x8e4b0t0/titanic_competition_data-repository:latest') "
      ],
      "execution_count": 2,
      "outputs": [
        {
          "output_type": "stream",
          "name": "stdout",
          "text": [
            "Downloading [=>                                               ]\n",
            "\n",
            "Data downloaded successfully.\n"
          ]
        }
      ]
    },
    {
      "cell_type": "code",
      "metadata": {
        "colab": {
          "base_uri": "https://localhost:8080/",
          "height": 206
        },
        "id": "jT0qFCZFNzHq",
        "outputId": "7213836b-4a72-4c04-feb8-7fa0a84b274e"
      },
      "source": [
        "# Separate data into X_train, y_train, and X_test\n",
        "import pandas as pd\n",
        "full_training_data=pd.read_csv(\"titanic_competition_data/training_data.csv\")\n",
        "\n",
        "X_train=full_training_data.iloc[:,full_training_data.columns!='survived']\n",
        "X_test=pd.read_csv(\"titanic_competition_data/test_data.csv\")\n",
        "y_train=full_training_data['survived']\n",
        "\n",
        "X_train.head()"
      ],
      "execution_count": 4,
      "outputs": [
        {
          "output_type": "execute_result",
          "data": {
            "text/html": [
              "<div>\n",
              "<style scoped>\n",
              "    .dataframe tbody tr th:only-of-type {\n",
              "        vertical-align: middle;\n",
              "    }\n",
              "\n",
              "    .dataframe tbody tr th {\n",
              "        vertical-align: top;\n",
              "    }\n",
              "\n",
              "    .dataframe thead th {\n",
              "        text-align: right;\n",
              "    }\n",
              "</style>\n",
              "<table border=\"1\" class=\"dataframe\">\n",
              "  <thead>\n",
              "    <tr style=\"text-align: right;\">\n",
              "      <th></th>\n",
              "      <th>Unnamed: 0</th>\n",
              "      <th>Unnamed: 0.1</th>\n",
              "      <th>pclass</th>\n",
              "      <th>sex</th>\n",
              "      <th>age</th>\n",
              "      <th>fare</th>\n",
              "      <th>embarked</th>\n",
              "    </tr>\n",
              "  </thead>\n",
              "  <tbody>\n",
              "    <tr>\n",
              "      <th>0</th>\n",
              "      <td>1107</td>\n",
              "      <td>1107</td>\n",
              "      <td>3</td>\n",
              "      <td>male</td>\n",
              "      <td>21.0</td>\n",
              "      <td>8.6625</td>\n",
              "      <td>S</td>\n",
              "    </tr>\n",
              "    <tr>\n",
              "      <th>1</th>\n",
              "      <td>928</td>\n",
              "      <td>928</td>\n",
              "      <td>3</td>\n",
              "      <td>female</td>\n",
              "      <td>NaN</td>\n",
              "      <td>14.4542</td>\n",
              "      <td>C</td>\n",
              "    </tr>\n",
              "    <tr>\n",
              "      <th>2</th>\n",
              "      <td>347</td>\n",
              "      <td>347</td>\n",
              "      <td>2</td>\n",
              "      <td>male</td>\n",
              "      <td>42.0</td>\n",
              "      <td>13.0000</td>\n",
              "      <td>S</td>\n",
              "    </tr>\n",
              "    <tr>\n",
              "      <th>3</th>\n",
              "      <td>819</td>\n",
              "      <td>819</td>\n",
              "      <td>3</td>\n",
              "      <td>female</td>\n",
              "      <td>NaN</td>\n",
              "      <td>7.7500</td>\n",
              "      <td>Q</td>\n",
              "    </tr>\n",
              "    <tr>\n",
              "      <th>4</th>\n",
              "      <td>71</td>\n",
              "      <td>71</td>\n",
              "      <td>1</td>\n",
              "      <td>male</td>\n",
              "      <td>27.0</td>\n",
              "      <td>136.7792</td>\n",
              "      <td>C</td>\n",
              "    </tr>\n",
              "  </tbody>\n",
              "</table>\n",
              "</div>"
            ],
            "text/plain": [
              "   Unnamed: 0  Unnamed: 0.1  pclass     sex   age      fare embarked\n",
              "0        1107          1107       3    male  21.0    8.6625        S\n",
              "1         928           928       3  female   NaN   14.4542        C\n",
              "2         347           347       2    male  42.0   13.0000        S\n",
              "3         819           819       3  female   NaN    7.7500        Q\n",
              "4          71            71       1    male  27.0  136.7792        C"
            ]
          },
          "metadata": {},
          "execution_count": 4
        }
      ]
    },
    {
      "cell_type": "markdown",
      "metadata": {
        "id": "gEzPoXPj3V7u"
      },
      "source": [
        "##2.   Preprocess data using Sklearn Column Transformer / Write and Save Preprocessor function\n"
      ]
    },
    {
      "cell_type": "code",
      "metadata": {
        "id": "A2BQMOPGCqra"
      },
      "source": [
        "from sklearn.compose import ColumnTransformer\n",
        "from sklearn.pipeline import Pipeline\n",
        "from sklearn.impute import SimpleImputer\n",
        "from sklearn.preprocessing import StandardScaler, OneHotEncoder\n",
        "\n",
        "#Preprocess data using sklearn's Column Transformer approach\n",
        "\n",
        "# We create the preprocessing pipelines for both numeric and categorical data.\n",
        "numeric_features = ['age', 'fare']\n",
        "numeric_transformer = Pipeline(steps=[\n",
        "    ('imputer', SimpleImputer(strategy='median')), #'imputer' names the step\n",
        "    ('scaler', StandardScaler())])\n",
        "\n",
        "categorical_features = ['embarked', 'sex', 'pclass']\n",
        "\n",
        "# Replacing missing values with Modal value and then one-hot encoding.\n",
        "categorical_transformer = Pipeline(steps=[\n",
        "    ('imputer', SimpleImputer(strategy='most_frequent')),\n",
        "    ('onehot', OneHotEncoder(handle_unknown='ignore'))])\n",
        "\n",
        "# Final preprocessor object set up with ColumnTransformer...\n",
        "\n",
        "preprocess = ColumnTransformer(\n",
        "    transformers=[\n",
        "        ('num', numeric_transformer, numeric_features),\n",
        "        ('cat', categorical_transformer, categorical_features)])\n",
        "\n",
        "# fit preprocessor to your data\n",
        "preprocess = preprocess.fit(X_train)"
      ],
      "execution_count": 5,
      "outputs": []
    },
    {
      "cell_type": "code",
      "metadata": {
        "id": "16QV9Y9TC3B3"
      },
      "source": [
        "# Write function to transform data with preprocessor \n",
        "# In this case we use sklearn's Column transformer in our preprocessor function\n",
        "\n",
        "def preprocessor(data):\n",
        "    preprocessed_data=preprocess.transform(data)\n",
        "    return preprocessed_data"
      ],
      "execution_count": 6,
      "outputs": []
    },
    {
      "cell_type": "markdown",
      "metadata": {
        "id": "X52kECL43b-O"
      },
      "source": [
        "##3. Fit model on preprocessed data and save preprocessor function and model \n"
      ]
    },
    {
      "cell_type": "code",
      "metadata": {
        "colab": {
          "base_uri": "https://localhost:8080/"
        },
        "id": "NCbBf8j9ClYl",
        "outputId": "33e8231d-3a9c-4efb-8eae-e292e97bb445"
      },
      "source": [
        "from sklearn.linear_model import LogisticRegression\n",
        "\n",
        "model = LogisticRegression(C=10, penalty='l1', solver = 'liblinear')\n",
        "model.fit(preprocessor(X_train), y_train) # Fitting to the training set.\n",
        "model.score(preprocessor(X_train), y_train) # Fit score, 0-1 scale."
      ],
      "execution_count": 7,
      "outputs": [
        {
          "output_type": "execute_result",
          "data": {
            "text/plain": [
              "0.7879656160458453"
            ]
          },
          "metadata": {},
          "execution_count": 7
        }
      ]
    },
    {
      "cell_type": "markdown",
      "metadata": {
        "id": "zmJAnmO-5AcU"
      },
      "source": [
        "#### Save preprocessor function to local \"preprocessor.zip\" file"
      ]
    },
    {
      "cell_type": "code",
      "metadata": {
        "colab": {
          "base_uri": "https://localhost:8080/"
        },
        "id": "4VGacc0LDaMA",
        "outputId": "1519452c-e22e-4a36-ee26-9acaff70e3a8"
      },
      "source": [
        "import aimodelshare as ai\n",
        "ai.export_preprocessor(preprocessor,\"\") "
      ],
      "execution_count": 8,
      "outputs": [
        {
          "output_type": "stream",
          "name": "stdout",
          "text": [
            "Your preprocessor is now saved to 'preprocessor.zip'\n"
          ]
        }
      ]
    },
    {
      "cell_type": "markdown",
      "metadata": {
        "id": "oOWBa8Cv5LdL"
      },
      "source": [
        "#### Save model to local \".onnx\" file"
      ]
    },
    {
      "cell_type": "code",
      "metadata": {
        "id": "pEhvnRiQDlY5"
      },
      "source": [
        "# Save sklearn model to local ONNX file\n",
        "from aimodelshare.aimsonnx import model_to_onnx\n",
        "\n",
        "# Check how many preprocessed input features are there?\n",
        "from skl2onnx.common.data_types import FloatTensorType\n",
        "initial_type = [('float_input', FloatTensorType([None, 10]))]  # You need to insert correct number of features in preprocessed data\n",
        "\n",
        "onnx_model = model_to_onnx(model, framework='sklearn',\n",
        "                          initial_types=initial_type,\n",
        "                          transfer_learning=False,\n",
        "                          deep_learning=False)\n",
        "\n",
        "with open(\"model.onnx\", \"wb\") as f:\n",
        "    f.write(onnx_model.SerializeToString())"
      ],
      "execution_count": 9,
      "outputs": []
    },
    {
      "cell_type": "markdown",
      "metadata": {
        "id": "gHWkAzvX3m8O"
      },
      "source": [
        "## 4. Generate predictions from X_test data and submit model to competition\n"
      ]
    },
    {
      "cell_type": "code",
      "metadata": {
        "colab": {
          "base_uri": "https://localhost:8080/"
        },
        "id": "RtgkM02MDpkO",
        "outputId": "9d5fdf8d-3df2-4b8f-95c3-b97b8689bf84"
      },
      "source": [
        "#Set credentials using modelshare.org username/password\n",
        "\n",
        "apiurl='https://r2okzbjyhh.execute-api.us-east-1.amazonaws.com/prod/m'\n",
        "\n",
        "ai.set_credentials(apiurl=apiurl)\n"
      ],
      "execution_count": 17,
      "outputs": [
        {
          "output_type": "stream",
          "name": "stdout",
          "text": [
            "AI Modelshare Username:··········\n",
            "AI Modelshare Password:··········\n",
            "AI Model Share login credentials set successfully.\n"
          ]
        }
      ]
    },
    {
      "cell_type": "code",
      "metadata": {
        "id": "fKNGSww8EGgi"
      },
      "source": [
        "#Instantiate Competition\n",
        "\n",
        "mycompetition= ai.Competition(apiurl)"
      ],
      "execution_count": 18,
      "outputs": []
    },
    {
      "cell_type": "code",
      "metadata": {
        "colab": {
          "base_uri": "https://localhost:8080/"
        },
        "id": "_Ql4wksyEUnP",
        "outputId": "00e2e7c0-9188-424c-a81f-f3623e4b8d44"
      },
      "source": [
        "#Submit Model 1: \n",
        "\n",
        "#-- Generate predicted values (a list of predicted labels \"survived\" or \"died\") (Model 1)\n",
        "prediction_labels = model.predict(preprocessor(X_test))\n",
        "\n",
        "# Submit Model 1 to Competition Leaderboard\n",
        "mycompetition.submit_model(model_filepath = \"model.onnx\",\n",
        "                                 preprocessor_filepath=\"preprocessor.zip\",\n",
        "                                 prediction_submission=prediction_labels)"
      ],
      "execution_count": 19,
      "outputs": [
        {
          "output_type": "stream",
          "name": "stdout",
          "text": [
            "Insert search tags to help users find your model (optional): test\n",
            "Provide any useful notes about your model (optional): test\n",
            "\n",
            "Your model has been submitted as model version 1\n",
            "\n",
            "To submit code used to create this model or to view current leaderboard navigate to Model Playground: \n",
            "\n",
            " https://www.modelshare.org/detail/model:603\n"
          ]
        }
      ]
    },
    {
      "cell_type": "code",
      "metadata": {
        "colab": {
          "base_uri": "https://localhost:8080/",
          "height": 62
        },
        "id": "GN1zvAmNEq17",
        "outputId": "cccbd2c2-ecab-4c48-bb1b-3e538311f923"
      },
      "source": [
        "# Get leaderboard to explore current best model architectures\n",
        "\n",
        "# Get raw data in pandas data frame\n",
        "data = mycompetition.get_leaderboard()\n",
        "\n",
        "# Stylize leaderboard data\n",
        "mycompetition.stylize_leaderboard(data)"
      ],
      "execution_count": 20,
      "outputs": [
        {
          "output_type": "execute_result",
          "data": {
            "text/html": [
              "<style  type=\"text/css\" >\n",
              "#T_5d3142ac_261e_11ec_a37f_0242ac1c0002row0_col0{\n",
              "            text-align:  center;\n",
              "            width:  10em;\n",
              "             height:  80%;\n",
              "            background:  linear-gradient(90deg,#f5f8d6 77.9%, transparent 77.9%);\n",
              "            color:  #251e1b;\n",
              "            font-size:  12px;\n",
              "        }#T_5d3142ac_261e_11ec_a37f_0242ac1c0002row0_col1{\n",
              "            text-align:  center;\n",
              "            width:  10em;\n",
              "             height:  80%;\n",
              "            background:  linear-gradient(90deg,#c778c8 75.9%, transparent 75.9%);\n",
              "            color:  #251e1b;\n",
              "            font-size:  12px;\n",
              "        }#T_5d3142ac_261e_11ec_a37f_0242ac1c0002row0_col2{\n",
              "            text-align:  center;\n",
              "            width:  10em;\n",
              "             height:  80%;\n",
              "            background:  linear-gradient(90deg,#ff4971 75.7%, transparent 75.7%);\n",
              "            color:  #251e1b;\n",
              "            font-size:  12px;\n",
              "        }#T_5d3142ac_261e_11ec_a37f_0242ac1c0002row0_col3{\n",
              "            text-align:  center;\n",
              "            width:  10em;\n",
              "             height:  80%;\n",
              "            background:  linear-gradient(90deg,#aadbaa 76.2%, transparent 76.2%);\n",
              "            color:  #251e1b;\n",
              "            font-size:  12px;\n",
              "        }#T_5d3142ac_261e_11ec_a37f_0242ac1c0002row0_col4,#T_5d3142ac_261e_11ec_a37f_0242ac1c0002row0_col5,#T_5d3142ac_261e_11ec_a37f_0242ac1c0002row0_col6,#T_5d3142ac_261e_11ec_a37f_0242ac1c0002row0_col7,#T_5d3142ac_261e_11ec_a37f_0242ac1c0002row0_col8,#T_5d3142ac_261e_11ec_a37f_0242ac1c0002row0_col9,#T_5d3142ac_261e_11ec_a37f_0242ac1c0002row0_col10,#T_5d3142ac_261e_11ec_a37f_0242ac1c0002row0_col11,#T_5d3142ac_261e_11ec_a37f_0242ac1c0002row0_col12{\n",
              "            text-align:  center;\n",
              "        }</style><table id=\"T_5d3142ac_261e_11ec_a37f_0242ac1c0002\" ><thead>    <tr>        <th class=\"blank level0\" ></th>        <th class=\"col_heading level0 col0\" >accuracy</th>        <th class=\"col_heading level0 col1\" >f1_score</th>        <th class=\"col_heading level0 col2\" >precision</th>        <th class=\"col_heading level0 col3\" >recall</th>        <th class=\"col_heading level0 col4\" >ml_framework</th>        <th class=\"col_heading level0 col5\" >transfer_learning</th>        <th class=\"col_heading level0 col6\" >deep_learning</th>        <th class=\"col_heading level0 col7\" >model_type</th>        <th class=\"col_heading level0 col8\" >num_params</th>        <th class=\"col_heading level0 col9\" >optimizer</th>        <th class=\"col_heading level0 col10\" >model_config</th>        <th class=\"col_heading level0 col11\" >username</th>        <th class=\"col_heading level0 col12\" >version</th>    </tr></thead><tbody>\n",
              "                <tr>\n",
              "                        <th id=\"T_5d3142ac_261e_11ec_a37f_0242ac1c0002level0_row0\" class=\"row_heading level0 row0\" >0</th>\n",
              "                        <td id=\"T_5d3142ac_261e_11ec_a37f_0242ac1c0002row0_col0\" class=\"data row0 col0\" >77.86%</td>\n",
              "                        <td id=\"T_5d3142ac_261e_11ec_a37f_0242ac1c0002row0_col1\" class=\"data row0 col1\" >75.94%</td>\n",
              "                        <td id=\"T_5d3142ac_261e_11ec_a37f_0242ac1c0002row0_col2\" class=\"data row0 col2\" >75.72%</td>\n",
              "                        <td id=\"T_5d3142ac_261e_11ec_a37f_0242ac1c0002row0_col3\" class=\"data row0 col3\" >76.21%</td>\n",
              "                        <td id=\"T_5d3142ac_261e_11ec_a37f_0242ac1c0002row0_col4\" class=\"data row0 col4\" >sklearn</td>\n",
              "                        <td id=\"T_5d3142ac_261e_11ec_a37f_0242ac1c0002row0_col5\" class=\"data row0 col5\" >False</td>\n",
              "                        <td id=\"T_5d3142ac_261e_11ec_a37f_0242ac1c0002row0_col6\" class=\"data row0 col6\" >False</td>\n",
              "                        <td id=\"T_5d3142ac_261e_11ec_a37f_0242ac1c0002row0_col7\" class=\"data row0 col7\" >LogisticRegression</td>\n",
              "                        <td id=\"T_5d3142ac_261e_11ec_a37f_0242ac1c0002row0_col8\" class=\"data row0 col8\" >10</td>\n",
              "                        <td id=\"T_5d3142ac_261e_11ec_a37f_0242ac1c0002row0_col9\" class=\"data row0 col9\" >liblinear</td>\n",
              "                        <td id=\"T_5d3142ac_261e_11ec_a37f_0242ac1c0002row0_col10\" class=\"data row0 col10\" >{'C': 10, 'class_weight': None...</td>\n",
              "                        <td id=\"T_5d3142ac_261e_11ec_a37f_0242ac1c0002row0_col11\" class=\"data row0 col11\" >mikedparrott</td>\n",
              "                        <td id=\"T_5d3142ac_261e_11ec_a37f_0242ac1c0002row0_col12\" class=\"data row0 col12\" >1</td>\n",
              "            </tr>\n",
              "    </tbody></table>"
            ],
            "text/plain": [
              "<pandas.io.formats.style.Styler at 0x7f5c93193b50>"
            ]
          },
          "metadata": {},
          "execution_count": 20
        }
      ]
    },
    {
      "cell_type": "markdown",
      "metadata": {
        "id": "bwNKs0wP4r5s"
      },
      "source": [
        "## 5. Repeat submission process to improve place on leaderboard\n"
      ]
    },
    {
      "cell_type": "code",
      "metadata": {
        "colab": {
          "base_uri": "https://localhost:8080/"
        },
        "id": "FgSs5PAtPCZH",
        "outputId": "aad6b4e1-23da-400e-bf13-4db6863576ee"
      },
      "source": [
        "# Train and submit model 2 using same preprocessor (note that you could save a new preprocessor, but we will use the same one for this example).\n",
        "from sklearn.linear_model import LogisticRegression\n",
        "\n",
        "model = LogisticRegression(C=.01, penalty='l1', solver = 'liblinear')\n",
        "model.fit(preprocessor(X_train), y_train) # Fitting to the training set.\n",
        "model.score(preprocessor(X_train), y_train) # Fit score, 0-1 scale."
      ],
      "execution_count": 38,
      "outputs": [
        {
          "output_type": "execute_result",
          "data": {
            "text/plain": [
              "0.7058261700095511"
            ]
          },
          "metadata": {},
          "execution_count": 38
        }
      ]
    },
    {
      "cell_type": "code",
      "metadata": {
        "id": "aIdmSpYVPYAw"
      },
      "source": [
        "# Save sklearn model to local ONNX file\n",
        "from aimodelshare.aimsonnx import model_to_onnx\n",
        "\n",
        "# Check how many preprocessed input features are there?\n",
        "from skl2onnx.common.data_types import FloatTensorType\n",
        "initial_type = [('float_input', FloatTensorType([None, 10]))]  # You need to insert correct number of features in preprocesed data\n",
        "\n",
        "onnx_model = model_to_onnx(model, framework='sklearn',\n",
        "                          initial_types=initial_type,\n",
        "                          transfer_learning=False,\n",
        "                          deep_learning=False)\n",
        "\n",
        "with open(\"model2.onnx\", \"wb\") as f:\n",
        "    f.write(onnx_model.SerializeToString())"
      ],
      "execution_count": 39,
      "outputs": []
    },
    {
      "cell_type": "code",
      "metadata": {
        "colab": {
          "base_uri": "https://localhost:8080/"
        },
        "id": "nszPPrfwPlUk",
        "outputId": "db6a3f98-2042-480e-94e5-164bb88e43b9"
      },
      "source": [
        "#Submit Model 2: \n",
        "\n",
        "#-- Generate predicted values (a list of predicted labels \"survived\" or \"died\") (Model 1)\n",
        "prediction_labels = model.predict(preprocessor(X_test))\n",
        "\n",
        "# Submit Model 1 to Competition Leaderboard\n",
        "mycompetition.submit_model(model_filepath = \"model2.onnx\",\n",
        "                                 preprocessor_filepath=\"preprocessor.zip\",\n",
        "                                 prediction_submission=prediction_labels)"
      ],
      "execution_count": 40,
      "outputs": [
        {
          "output_type": "stream",
          "name": "stdout",
          "text": [
            "Insert search tags to help users find your model (optional): test\n",
            "Provide any useful notes about your model (optional): test\n",
            "\n",
            "Your model has been submitted as model version 7\n",
            "\n",
            "To submit code used to create this model or to view current leaderboard navigate to Model Playground: \n",
            "\n",
            " https://www.modelshare.org/detail/model:603\n"
          ]
        }
      ]
    },
    {
      "cell_type": "code",
      "metadata": {
        "colab": {
          "base_uri": "https://localhost:8080/",
          "height": 520
        },
        "id": "qLl7yLpVEx26",
        "outputId": "e65d3c02-dd0b-453f-a23f-02ab8c862580"
      },
      "source": [
        "# Compare differences between models\n",
        "# (Experimental, Git-like Diffs for Model Architectures)\n",
        "mycompetition.compare_models([1,2])"
      ],
      "execution_count": 24,
      "outputs": [
        {
          "output_type": "execute_result",
          "data": {
            "text/html": [
              "<div>\n",
              "<style scoped>\n",
              "    .dataframe tbody tr th:only-of-type {\n",
              "        vertical-align: middle;\n",
              "    }\n",
              "\n",
              "    .dataframe tbody tr th {\n",
              "        vertical-align: top;\n",
              "    }\n",
              "\n",
              "    .dataframe thead th {\n",
              "        text-align: right;\n",
              "    }\n",
              "</style>\n",
              "<table border=\"1\" class=\"dataframe\">\n",
              "  <thead>\n",
              "    <tr style=\"text-align: right;\">\n",
              "      <th></th>\n",
              "      <th>param_name</th>\n",
              "      <th>model_default</th>\n",
              "      <th>Model_1</th>\n",
              "      <th>Model_2</th>\n",
              "    </tr>\n",
              "  </thead>\n",
              "  <tbody>\n",
              "    <tr>\n",
              "      <th>0</th>\n",
              "      <td>C</td>\n",
              "      <td>1</td>\n",
              "      <td>10</td>\n",
              "      <td>0.01</td>\n",
              "    </tr>\n",
              "    <tr>\n",
              "      <th>1</th>\n",
              "      <td>class_weight</td>\n",
              "      <td>None</td>\n",
              "      <td>None</td>\n",
              "      <td>None</td>\n",
              "    </tr>\n",
              "    <tr>\n",
              "      <th>2</th>\n",
              "      <td>dual</td>\n",
              "      <td>False</td>\n",
              "      <td>False</td>\n",
              "      <td>False</td>\n",
              "    </tr>\n",
              "    <tr>\n",
              "      <th>3</th>\n",
              "      <td>fit_intercept</td>\n",
              "      <td>True</td>\n",
              "      <td>True</td>\n",
              "      <td>True</td>\n",
              "    </tr>\n",
              "    <tr>\n",
              "      <th>4</th>\n",
              "      <td>intercept_scaling</td>\n",
              "      <td>1</td>\n",
              "      <td>1</td>\n",
              "      <td>1</td>\n",
              "    </tr>\n",
              "    <tr>\n",
              "      <th>5</th>\n",
              "      <td>l1_ratio</td>\n",
              "      <td>None</td>\n",
              "      <td>None</td>\n",
              "      <td>None</td>\n",
              "    </tr>\n",
              "    <tr>\n",
              "      <th>6</th>\n",
              "      <td>max_iter</td>\n",
              "      <td>100</td>\n",
              "      <td>100</td>\n",
              "      <td>100</td>\n",
              "    </tr>\n",
              "    <tr>\n",
              "      <th>7</th>\n",
              "      <td>multi_class</td>\n",
              "      <td>auto</td>\n",
              "      <td>auto</td>\n",
              "      <td>auto</td>\n",
              "    </tr>\n",
              "    <tr>\n",
              "      <th>8</th>\n",
              "      <td>n_jobs</td>\n",
              "      <td>None</td>\n",
              "      <td>None</td>\n",
              "      <td>None</td>\n",
              "    </tr>\n",
              "    <tr>\n",
              "      <th>9</th>\n",
              "      <td>penalty</td>\n",
              "      <td>l2</td>\n",
              "      <td>l1</td>\n",
              "      <td>l1</td>\n",
              "    </tr>\n",
              "    <tr>\n",
              "      <th>10</th>\n",
              "      <td>random_state</td>\n",
              "      <td>None</td>\n",
              "      <td>None</td>\n",
              "      <td>None</td>\n",
              "    </tr>\n",
              "    <tr>\n",
              "      <th>11</th>\n",
              "      <td>solver</td>\n",
              "      <td>lbfgs</td>\n",
              "      <td>liblinear</td>\n",
              "      <td>liblinear</td>\n",
              "    </tr>\n",
              "    <tr>\n",
              "      <th>12</th>\n",
              "      <td>tol</td>\n",
              "      <td>0.0001</td>\n",
              "      <td>0.0001</td>\n",
              "      <td>0.0001</td>\n",
              "    </tr>\n",
              "    <tr>\n",
              "      <th>13</th>\n",
              "      <td>verbose</td>\n",
              "      <td>0</td>\n",
              "      <td>0</td>\n",
              "      <td>0</td>\n",
              "    </tr>\n",
              "    <tr>\n",
              "      <th>14</th>\n",
              "      <td>warm_start</td>\n",
              "      <td>False</td>\n",
              "      <td>False</td>\n",
              "      <td>False</td>\n",
              "    </tr>\n",
              "  </tbody>\n",
              "</table>\n",
              "</div>"
            ],
            "text/plain": [
              "           param_name model_default    Model_1    Model_2\n",
              "0                   C             1         10       0.01\n",
              "1        class_weight          None       None       None\n",
              "2                dual         False      False      False\n",
              "3       fit_intercept          True       True       True\n",
              "4   intercept_scaling             1          1          1\n",
              "5            l1_ratio          None       None       None\n",
              "6            max_iter           100        100        100\n",
              "7         multi_class          auto       auto       auto\n",
              "8              n_jobs          None       None       None\n",
              "9             penalty            l2         l1         l1\n",
              "10       random_state          None       None       None\n",
              "11             solver         lbfgs  liblinear  liblinear\n",
              "12                tol        0.0001     0.0001     0.0001\n",
              "13            verbose             0          0          0\n",
              "14         warm_start         False      False      False"
            ]
          },
          "metadata": {},
          "execution_count": 24
        }
      ]
    },
    {
      "cell_type": "code",
      "metadata": {
        "colab": {
          "base_uri": "https://localhost:8080/"
        },
        "id": "6Go4SF37Ex_Z",
        "outputId": "40e14be9-fa21-4e9e-8cea-102d6df3d842"
      },
      "source": [
        "# Submit a third model using GridSearchCV\n",
        "\n",
        "from sklearn.model_selection import GridSearchCV\n",
        "import numpy as np\n",
        "\n",
        "param_grid = {'C': np.arange(.1, 10, .1),'penalty':['l2']} #np.arange creates sequence of numbers for each k value\n",
        "\n",
        "gridmodel = GridSearchCV(LogisticRegression(solver ='newton-cg'), param_grid=param_grid, cv=10)\n",
        "\n",
        "#use meta model methods to fit score and predict model:\n",
        "gridmodel.fit(preprocessor(X_train), y_train)\n",
        "\n",
        "#extract best score and parameter by calling objects \"best_score_\" and \"best_params_\"\n",
        "print(\"best mean cross-validation score: {:.3f}\".format(gridmodel.best_score_))\n",
        "print(\"best parameters: {}\".format(gridmodel.best_params_))\n"
      ],
      "execution_count": 48,
      "outputs": [
        {
          "output_type": "stream",
          "name": "stdout",
          "text": [
            "best mean cross-validation score: 0.786\n",
            "best parameters: {'C': 0.30000000000000004, 'penalty': 'l2'}\n"
          ]
        }
      ]
    },
    {
      "cell_type": "code",
      "metadata": {
        "id": "HvLuIvOjHLH2"
      },
      "source": [
        "# Save sklearn model to local ONNX file\n",
        "from aimodelshare.aimsonnx import model_to_onnx\n",
        "\n",
        "# Check how many preprocessed input features are there?\n",
        "from skl2onnx.common.data_types import FloatTensorType\n",
        "initial_type = [('float_input', FloatTensorType([None, 10]))]  # You need to insert correct number of features in preprocesed data\n",
        "\n",
        "onnx_model = model_to_onnx(gridmodel, framework='sklearn',\n",
        "                          initial_types=initial_type,\n",
        "                          transfer_learning=False,\n",
        "                          deep_learning=False)\n",
        "\n",
        "with open(\"gridmodel.onnx\", \"wb\") as f:\n",
        "    f.write(onnx_model.SerializeToString())"
      ],
      "execution_count": 58,
      "outputs": []
    },
    {
      "cell_type": "code",
      "metadata": {
        "colab": {
          "base_uri": "https://localhost:8080/"
        },
        "id": "sMidHABfHVN7",
        "outputId": "da761940-5b3d-42b0-d36a-f49675916d2f"
      },
      "source": [
        "#Submit Model 3: \n",
        "\n",
        "#-- Generate predicted values (a list of predicted labels \"survived\" or \"died\")\n",
        "prediction_labels = gridmodel.predict(preprocessor(X_test))\n",
        "\n",
        "# Submit Model 1 to Competition Leaderboard\n",
        "mycompetition.submit_model(model_filepath = \"gridmodel.onnx\",\n",
        "                                 preprocessor_filepath=\"preprocessor.zip\",\n",
        "                                 prediction_submission=prediction_labels)"
      ],
      "execution_count": 61,
      "outputs": [
        {
          "output_type": "stream",
          "name": "stdout",
          "text": [
            "Insert search tags to help users find your model (optional): test\n",
            "Provide any useful notes about your model (optional): test\n",
            "\n",
            "Your model has been submitted as model version 11\n",
            "\n",
            "To submit code used to create this model or to view current leaderboard navigate to Model Playground: \n",
            "\n",
            " https://www.modelshare.org/detail/model:603\n"
          ]
        }
      ]
    },
    {
      "cell_type": "code",
      "metadata": {
        "colab": {
          "base_uri": "https://localhost:8080/",
          "height": 275
        },
        "id": "hn-Tp-zpJVGT",
        "outputId": "a55374b5-3c8b-4c55-c6d8-164999d8e28b"
      },
      "source": [
        "# Get leaderboard\n",
        "\n",
        "data = mycompetition.get_leaderboard()\n",
        "mycompetition.stylize_leaderboard(data)"
      ],
      "execution_count": 62,
      "outputs": [
        {
          "output_type": "execute_result",
          "data": {
            "text/html": [
              "<style  type=\"text/css\" >\n",
              "#T_fb4cb702_2621_11ec_a37f_0242ac1c0002row0_col0,#T_fb4cb702_2621_11ec_a37f_0242ac1c0002row1_col0{\n",
              "            text-align:  center;\n",
              "            width:  10em;\n",
              "             height:  80%;\n",
              "            background:  linear-gradient(90deg,#f5f8d6 82.4%, transparent 82.4%);\n",
              "            color:  #251e1b;\n",
              "            font-size:  12px;\n",
              "        }#T_fb4cb702_2621_11ec_a37f_0242ac1c0002row0_col1,#T_fb4cb702_2621_11ec_a37f_0242ac1c0002row1_col1{\n",
              "            text-align:  center;\n",
              "            width:  10em;\n",
              "             height:  80%;\n",
              "            background:  linear-gradient(90deg,#c778c8 80.5%, transparent 80.5%);\n",
              "            color:  #251e1b;\n",
              "            font-size:  12px;\n",
              "        }#T_fb4cb702_2621_11ec_a37f_0242ac1c0002row0_col2,#T_fb4cb702_2621_11ec_a37f_0242ac1c0002row1_col2{\n",
              "            text-align:  center;\n",
              "            width:  10em;\n",
              "             height:  80%;\n",
              "            background:  linear-gradient(90deg,#ff4971 80.9%, transparent 80.9%);\n",
              "            color:  #251e1b;\n",
              "            font-size:  12px;\n",
              "        }#T_fb4cb702_2621_11ec_a37f_0242ac1c0002row0_col3,#T_fb4cb702_2621_11ec_a37f_0242ac1c0002row1_col3{\n",
              "            text-align:  center;\n",
              "            width:  10em;\n",
              "             height:  80%;\n",
              "            background:  linear-gradient(90deg,#aadbaa 80.2%, transparent 80.2%);\n",
              "            color:  #251e1b;\n",
              "            font-size:  12px;\n",
              "        }#T_fb4cb702_2621_11ec_a37f_0242ac1c0002row0_col4,#T_fb4cb702_2621_11ec_a37f_0242ac1c0002row0_col5,#T_fb4cb702_2621_11ec_a37f_0242ac1c0002row0_col6,#T_fb4cb702_2621_11ec_a37f_0242ac1c0002row0_col7,#T_fb4cb702_2621_11ec_a37f_0242ac1c0002row0_col8,#T_fb4cb702_2621_11ec_a37f_0242ac1c0002row0_col9,#T_fb4cb702_2621_11ec_a37f_0242ac1c0002row0_col10,#T_fb4cb702_2621_11ec_a37f_0242ac1c0002row0_col11,#T_fb4cb702_2621_11ec_a37f_0242ac1c0002row0_col12,#T_fb4cb702_2621_11ec_a37f_0242ac1c0002row1_col4,#T_fb4cb702_2621_11ec_a37f_0242ac1c0002row1_col5,#T_fb4cb702_2621_11ec_a37f_0242ac1c0002row1_col6,#T_fb4cb702_2621_11ec_a37f_0242ac1c0002row1_col7,#T_fb4cb702_2621_11ec_a37f_0242ac1c0002row1_col8,#T_fb4cb702_2621_11ec_a37f_0242ac1c0002row1_col9,#T_fb4cb702_2621_11ec_a37f_0242ac1c0002row1_col10,#T_fb4cb702_2621_11ec_a37f_0242ac1c0002row1_col11,#T_fb4cb702_2621_11ec_a37f_0242ac1c0002row1_col12,#T_fb4cb702_2621_11ec_a37f_0242ac1c0002row2_col4,#T_fb4cb702_2621_11ec_a37f_0242ac1c0002row2_col5,#T_fb4cb702_2621_11ec_a37f_0242ac1c0002row2_col6,#T_fb4cb702_2621_11ec_a37f_0242ac1c0002row2_col7,#T_fb4cb702_2621_11ec_a37f_0242ac1c0002row2_col8,#T_fb4cb702_2621_11ec_a37f_0242ac1c0002row2_col9,#T_fb4cb702_2621_11ec_a37f_0242ac1c0002row2_col10,#T_fb4cb702_2621_11ec_a37f_0242ac1c0002row2_col11,#T_fb4cb702_2621_11ec_a37f_0242ac1c0002row2_col12,#T_fb4cb702_2621_11ec_a37f_0242ac1c0002row3_col4,#T_fb4cb702_2621_11ec_a37f_0242ac1c0002row3_col5,#T_fb4cb702_2621_11ec_a37f_0242ac1c0002row3_col6,#T_fb4cb702_2621_11ec_a37f_0242ac1c0002row3_col7,#T_fb4cb702_2621_11ec_a37f_0242ac1c0002row3_col8,#T_fb4cb702_2621_11ec_a37f_0242ac1c0002row3_col9,#T_fb4cb702_2621_11ec_a37f_0242ac1c0002row3_col10,#T_fb4cb702_2621_11ec_a37f_0242ac1c0002row3_col11,#T_fb4cb702_2621_11ec_a37f_0242ac1c0002row3_col12,#T_fb4cb702_2621_11ec_a37f_0242ac1c0002row4_col4,#T_fb4cb702_2621_11ec_a37f_0242ac1c0002row4_col5,#T_fb4cb702_2621_11ec_a37f_0242ac1c0002row4_col6,#T_fb4cb702_2621_11ec_a37f_0242ac1c0002row4_col7,#T_fb4cb702_2621_11ec_a37f_0242ac1c0002row4_col8,#T_fb4cb702_2621_11ec_a37f_0242ac1c0002row4_col9,#T_fb4cb702_2621_11ec_a37f_0242ac1c0002row4_col10,#T_fb4cb702_2621_11ec_a37f_0242ac1c0002row4_col11,#T_fb4cb702_2621_11ec_a37f_0242ac1c0002row4_col12,#T_fb4cb702_2621_11ec_a37f_0242ac1c0002row5_col4,#T_fb4cb702_2621_11ec_a37f_0242ac1c0002row5_col5,#T_fb4cb702_2621_11ec_a37f_0242ac1c0002row5_col6,#T_fb4cb702_2621_11ec_a37f_0242ac1c0002row5_col7,#T_fb4cb702_2621_11ec_a37f_0242ac1c0002row5_col8,#T_fb4cb702_2621_11ec_a37f_0242ac1c0002row5_col9,#T_fb4cb702_2621_11ec_a37f_0242ac1c0002row5_col10,#T_fb4cb702_2621_11ec_a37f_0242ac1c0002row5_col11,#T_fb4cb702_2621_11ec_a37f_0242ac1c0002row5_col12,#T_fb4cb702_2621_11ec_a37f_0242ac1c0002row6_col4,#T_fb4cb702_2621_11ec_a37f_0242ac1c0002row6_col5,#T_fb4cb702_2621_11ec_a37f_0242ac1c0002row6_col6,#T_fb4cb702_2621_11ec_a37f_0242ac1c0002row6_col7,#T_fb4cb702_2621_11ec_a37f_0242ac1c0002row6_col8,#T_fb4cb702_2621_11ec_a37f_0242ac1c0002row6_col9,#T_fb4cb702_2621_11ec_a37f_0242ac1c0002row6_col10,#T_fb4cb702_2621_11ec_a37f_0242ac1c0002row6_col11,#T_fb4cb702_2621_11ec_a37f_0242ac1c0002row6_col12,#T_fb4cb702_2621_11ec_a37f_0242ac1c0002row7_col4,#T_fb4cb702_2621_11ec_a37f_0242ac1c0002row7_col5,#T_fb4cb702_2621_11ec_a37f_0242ac1c0002row7_col6,#T_fb4cb702_2621_11ec_a37f_0242ac1c0002row7_col7,#T_fb4cb702_2621_11ec_a37f_0242ac1c0002row7_col8,#T_fb4cb702_2621_11ec_a37f_0242ac1c0002row7_col9,#T_fb4cb702_2621_11ec_a37f_0242ac1c0002row7_col10,#T_fb4cb702_2621_11ec_a37f_0242ac1c0002row7_col11,#T_fb4cb702_2621_11ec_a37f_0242ac1c0002row7_col12,#T_fb4cb702_2621_11ec_a37f_0242ac1c0002row8_col4,#T_fb4cb702_2621_11ec_a37f_0242ac1c0002row8_col5,#T_fb4cb702_2621_11ec_a37f_0242ac1c0002row8_col6,#T_fb4cb702_2621_11ec_a37f_0242ac1c0002row8_col7,#T_fb4cb702_2621_11ec_a37f_0242ac1c0002row8_col8,#T_fb4cb702_2621_11ec_a37f_0242ac1c0002row8_col9,#T_fb4cb702_2621_11ec_a37f_0242ac1c0002row8_col10,#T_fb4cb702_2621_11ec_a37f_0242ac1c0002row8_col11,#T_fb4cb702_2621_11ec_a37f_0242ac1c0002row8_col12,#T_fb4cb702_2621_11ec_a37f_0242ac1c0002row9_col4,#T_fb4cb702_2621_11ec_a37f_0242ac1c0002row9_col5,#T_fb4cb702_2621_11ec_a37f_0242ac1c0002row9_col6,#T_fb4cb702_2621_11ec_a37f_0242ac1c0002row9_col7,#T_fb4cb702_2621_11ec_a37f_0242ac1c0002row9_col8,#T_fb4cb702_2621_11ec_a37f_0242ac1c0002row9_col9,#T_fb4cb702_2621_11ec_a37f_0242ac1c0002row9_col10,#T_fb4cb702_2621_11ec_a37f_0242ac1c0002row9_col11,#T_fb4cb702_2621_11ec_a37f_0242ac1c0002row9_col12,#T_fb4cb702_2621_11ec_a37f_0242ac1c0002row10_col4,#T_fb4cb702_2621_11ec_a37f_0242ac1c0002row10_col5,#T_fb4cb702_2621_11ec_a37f_0242ac1c0002row10_col6,#T_fb4cb702_2621_11ec_a37f_0242ac1c0002row10_col7,#T_fb4cb702_2621_11ec_a37f_0242ac1c0002row10_col8,#T_fb4cb702_2621_11ec_a37f_0242ac1c0002row10_col9,#T_fb4cb702_2621_11ec_a37f_0242ac1c0002row10_col10,#T_fb4cb702_2621_11ec_a37f_0242ac1c0002row10_col11,#T_fb4cb702_2621_11ec_a37f_0242ac1c0002row10_col12{\n",
              "            text-align:  center;\n",
              "        }#T_fb4cb702_2621_11ec_a37f_0242ac1c0002row2_col0,#T_fb4cb702_2621_11ec_a37f_0242ac1c0002row3_col0,#T_fb4cb702_2621_11ec_a37f_0242ac1c0002row4_col0,#T_fb4cb702_2621_11ec_a37f_0242ac1c0002row5_col0,#T_fb4cb702_2621_11ec_a37f_0242ac1c0002row6_col0,#T_fb4cb702_2621_11ec_a37f_0242ac1c0002row7_col0,#T_fb4cb702_2621_11ec_a37f_0242ac1c0002row8_col0{\n",
              "            text-align:  center;\n",
              "            width:  10em;\n",
              "             height:  80%;\n",
              "            background:  linear-gradient(90deg,#f5f8d6 77.9%, transparent 77.9%);\n",
              "            color:  #251e1b;\n",
              "            font-size:  12px;\n",
              "        }#T_fb4cb702_2621_11ec_a37f_0242ac1c0002row2_col1,#T_fb4cb702_2621_11ec_a37f_0242ac1c0002row3_col1,#T_fb4cb702_2621_11ec_a37f_0242ac1c0002row4_col1,#T_fb4cb702_2621_11ec_a37f_0242ac1c0002row5_col1,#T_fb4cb702_2621_11ec_a37f_0242ac1c0002row6_col1{\n",
              "            text-align:  center;\n",
              "            width:  10em;\n",
              "             height:  80%;\n",
              "            background:  linear-gradient(90deg,#c778c8 75.9%, transparent 75.9%);\n",
              "            color:  #251e1b;\n",
              "            font-size:  12px;\n",
              "        }#T_fb4cb702_2621_11ec_a37f_0242ac1c0002row2_col2,#T_fb4cb702_2621_11ec_a37f_0242ac1c0002row3_col2,#T_fb4cb702_2621_11ec_a37f_0242ac1c0002row4_col2,#T_fb4cb702_2621_11ec_a37f_0242ac1c0002row5_col2,#T_fb4cb702_2621_11ec_a37f_0242ac1c0002row6_col2,#T_fb4cb702_2621_11ec_a37f_0242ac1c0002row7_col2,#T_fb4cb702_2621_11ec_a37f_0242ac1c0002row8_col2{\n",
              "            text-align:  center;\n",
              "            width:  10em;\n",
              "             height:  80%;\n",
              "            background:  linear-gradient(90deg,#ff4971 75.7%, transparent 75.7%);\n",
              "            color:  #251e1b;\n",
              "            font-size:  12px;\n",
              "        }#T_fb4cb702_2621_11ec_a37f_0242ac1c0002row2_col3,#T_fb4cb702_2621_11ec_a37f_0242ac1c0002row3_col3,#T_fb4cb702_2621_11ec_a37f_0242ac1c0002row4_col3,#T_fb4cb702_2621_11ec_a37f_0242ac1c0002row5_col3,#T_fb4cb702_2621_11ec_a37f_0242ac1c0002row6_col3{\n",
              "            text-align:  center;\n",
              "            width:  10em;\n",
              "             height:  80%;\n",
              "            background:  linear-gradient(90deg,#aadbaa 76.2%, transparent 76.2%);\n",
              "            color:  #251e1b;\n",
              "            font-size:  12px;\n",
              "        }#T_fb4cb702_2621_11ec_a37f_0242ac1c0002row7_col1,#T_fb4cb702_2621_11ec_a37f_0242ac1c0002row8_col1{\n",
              "            text-align:  center;\n",
              "            width:  10em;\n",
              "             height:  80%;\n",
              "            background:  linear-gradient(90deg,#c778c8 75.8%, transparent 75.8%);\n",
              "            color:  #251e1b;\n",
              "            font-size:  12px;\n",
              "        }#T_fb4cb702_2621_11ec_a37f_0242ac1c0002row7_col3,#T_fb4cb702_2621_11ec_a37f_0242ac1c0002row8_col3{\n",
              "            text-align:  center;\n",
              "            width:  10em;\n",
              "             height:  80%;\n",
              "            background:  linear-gradient(90deg,#aadbaa 76.0%, transparent 76.0%);\n",
              "            color:  #251e1b;\n",
              "            font-size:  12px;\n",
              "        }#T_fb4cb702_2621_11ec_a37f_0242ac1c0002row9_col0,#T_fb4cb702_2621_11ec_a37f_0242ac1c0002row10_col0{\n",
              "            text-align:  center;\n",
              "            width:  10em;\n",
              "             height:  80%;\n",
              "            background:  linear-gradient(90deg,#f5f8d6 73.3%, transparent 73.3%);\n",
              "            color:  #251e1b;\n",
              "            font-size:  12px;\n",
              "        }#T_fb4cb702_2621_11ec_a37f_0242ac1c0002row9_col1,#T_fb4cb702_2621_11ec_a37f_0242ac1c0002row10_col1{\n",
              "            text-align:  center;\n",
              "            width:  10em;\n",
              "             height:  80%;\n",
              "            background:  linear-gradient(90deg,#c778c8 62.2%, transparent 62.2%);\n",
              "            color:  #251e1b;\n",
              "            font-size:  12px;\n",
              "        }#T_fb4cb702_2621_11ec_a37f_0242ac1c0002row9_col2,#T_fb4cb702_2621_11ec_a37f_0242ac1c0002row10_col2{\n",
              "            text-align:  center;\n",
              "            width:  10em;\n",
              "             height:  80%;\n",
              "            background:  linear-gradient(90deg,#ff4971 80.3%, transparent 80.3%);\n",
              "            color:  #251e1b;\n",
              "            font-size:  12px;\n",
              "        }#T_fb4cb702_2621_11ec_a37f_0242ac1c0002row9_col3,#T_fb4cb702_2621_11ec_a37f_0242ac1c0002row10_col3{\n",
              "            text-align:  center;\n",
              "            width:  10em;\n",
              "             height:  80%;\n",
              "            background:  linear-gradient(90deg,#aadbaa 62.7%, transparent 62.7%);\n",
              "            color:  #251e1b;\n",
              "            font-size:  12px;\n",
              "        }</style><table id=\"T_fb4cb702_2621_11ec_a37f_0242ac1c0002\" ><thead>    <tr>        <th class=\"blank level0\" ></th>        <th class=\"col_heading level0 col0\" >accuracy</th>        <th class=\"col_heading level0 col1\" >f1_score</th>        <th class=\"col_heading level0 col2\" >precision</th>        <th class=\"col_heading level0 col3\" >recall</th>        <th class=\"col_heading level0 col4\" >ml_framework</th>        <th class=\"col_heading level0 col5\" >transfer_learning</th>        <th class=\"col_heading level0 col6\" >deep_learning</th>        <th class=\"col_heading level0 col7\" >model_type</th>        <th class=\"col_heading level0 col8\" >num_params</th>        <th class=\"col_heading level0 col9\" >optimizer</th>        <th class=\"col_heading level0 col10\" >model_config</th>        <th class=\"col_heading level0 col11\" >username</th>        <th class=\"col_heading level0 col12\" >version</th>    </tr></thead><tbody>\n",
              "                <tr>\n",
              "                        <th id=\"T_fb4cb702_2621_11ec_a37f_0242ac1c0002level0_row0\" class=\"row_heading level0 row0\" >0</th>\n",
              "                        <td id=\"T_fb4cb702_2621_11ec_a37f_0242ac1c0002row0_col0\" class=\"data row0 col0\" >82.44%</td>\n",
              "                        <td id=\"T_fb4cb702_2621_11ec_a37f_0242ac1c0002row0_col1\" class=\"data row0 col1\" >80.54%</td>\n",
              "                        <td id=\"T_fb4cb702_2621_11ec_a37f_0242ac1c0002row0_col2\" class=\"data row0 col2\" >80.88%</td>\n",
              "                        <td id=\"T_fb4cb702_2621_11ec_a37f_0242ac1c0002row0_col3\" class=\"data row0 col3\" >80.24%</td>\n",
              "                        <td id=\"T_fb4cb702_2621_11ec_a37f_0242ac1c0002row0_col4\" class=\"data row0 col4\" >sklearn</td>\n",
              "                        <td id=\"T_fb4cb702_2621_11ec_a37f_0242ac1c0002row0_col5\" class=\"data row0 col5\" >False</td>\n",
              "                        <td id=\"T_fb4cb702_2621_11ec_a37f_0242ac1c0002row0_col6\" class=\"data row0 col6\" >False</td>\n",
              "                        <td id=\"T_fb4cb702_2621_11ec_a37f_0242ac1c0002row0_col7\" class=\"data row0 col7\" >LogisticRegression</td>\n",
              "                        <td id=\"T_fb4cb702_2621_11ec_a37f_0242ac1c0002row0_col8\" class=\"data row0 col8\" >10.000000</td>\n",
              "                        <td id=\"T_fb4cb702_2621_11ec_a37f_0242ac1c0002row0_col9\" class=\"data row0 col9\" >newton-cg</td>\n",
              "                        <td id=\"T_fb4cb702_2621_11ec_a37f_0242ac1c0002row0_col10\" class=\"data row0 col10\" >{'C': 0.30000000000000004, 'cl...</td>\n",
              "                        <td id=\"T_fb4cb702_2621_11ec_a37f_0242ac1c0002row0_col11\" class=\"data row0 col11\" >mikedparrott</td>\n",
              "                        <td id=\"T_fb4cb702_2621_11ec_a37f_0242ac1c0002row0_col12\" class=\"data row0 col12\" >10</td>\n",
              "            </tr>\n",
              "            <tr>\n",
              "                        <th id=\"T_fb4cb702_2621_11ec_a37f_0242ac1c0002level0_row1\" class=\"row_heading level0 row1\" >1</th>\n",
              "                        <td id=\"T_fb4cb702_2621_11ec_a37f_0242ac1c0002row1_col0\" class=\"data row1 col0\" >82.44%</td>\n",
              "                        <td id=\"T_fb4cb702_2621_11ec_a37f_0242ac1c0002row1_col1\" class=\"data row1 col1\" >80.54%</td>\n",
              "                        <td id=\"T_fb4cb702_2621_11ec_a37f_0242ac1c0002row1_col2\" class=\"data row1 col2\" >80.88%</td>\n",
              "                        <td id=\"T_fb4cb702_2621_11ec_a37f_0242ac1c0002row1_col3\" class=\"data row1 col3\" >80.24%</td>\n",
              "                        <td id=\"T_fb4cb702_2621_11ec_a37f_0242ac1c0002row1_col4\" class=\"data row1 col4\" >sklearn</td>\n",
              "                        <td id=\"T_fb4cb702_2621_11ec_a37f_0242ac1c0002row1_col5\" class=\"data row1 col5\" >False</td>\n",
              "                        <td id=\"T_fb4cb702_2621_11ec_a37f_0242ac1c0002row1_col6\" class=\"data row1 col6\" >False</td>\n",
              "                        <td id=\"T_fb4cb702_2621_11ec_a37f_0242ac1c0002row1_col7\" class=\"data row1 col7\" >RandomForestClassifier</td>\n",
              "                        <td id=\"T_fb4cb702_2621_11ec_a37f_0242ac1c0002row1_col8\" class=\"data row1 col8\" >nan</td>\n",
              "                        <td id=\"T_fb4cb702_2621_11ec_a37f_0242ac1c0002row1_col9\" class=\"data row1 col9\" >nan</td>\n",
              "                        <td id=\"T_fb4cb702_2621_11ec_a37f_0242ac1c0002row1_col10\" class=\"data row1 col10\" >{'bootstrap': True, 'ccp_alpha...</td>\n",
              "                        <td id=\"T_fb4cb702_2621_11ec_a37f_0242ac1c0002row1_col11\" class=\"data row1 col11\" >mikedparrott</td>\n",
              "                        <td id=\"T_fb4cb702_2621_11ec_a37f_0242ac1c0002row1_col12\" class=\"data row1 col12\" >11</td>\n",
              "            </tr>\n",
              "            <tr>\n",
              "                        <th id=\"T_fb4cb702_2621_11ec_a37f_0242ac1c0002level0_row2\" class=\"row_heading level0 row2\" >2</th>\n",
              "                        <td id=\"T_fb4cb702_2621_11ec_a37f_0242ac1c0002row2_col0\" class=\"data row2 col0\" >77.86%</td>\n",
              "                        <td id=\"T_fb4cb702_2621_11ec_a37f_0242ac1c0002row2_col1\" class=\"data row2 col1\" >75.94%</td>\n",
              "                        <td id=\"T_fb4cb702_2621_11ec_a37f_0242ac1c0002row2_col2\" class=\"data row2 col2\" >75.72%</td>\n",
              "                        <td id=\"T_fb4cb702_2621_11ec_a37f_0242ac1c0002row2_col3\" class=\"data row2 col3\" >76.21%</td>\n",
              "                        <td id=\"T_fb4cb702_2621_11ec_a37f_0242ac1c0002row2_col4\" class=\"data row2 col4\" >sklearn</td>\n",
              "                        <td id=\"T_fb4cb702_2621_11ec_a37f_0242ac1c0002row2_col5\" class=\"data row2 col5\" >False</td>\n",
              "                        <td id=\"T_fb4cb702_2621_11ec_a37f_0242ac1c0002row2_col6\" class=\"data row2 col6\" >False</td>\n",
              "                        <td id=\"T_fb4cb702_2621_11ec_a37f_0242ac1c0002row2_col7\" class=\"data row2 col7\" >LogisticRegression</td>\n",
              "                        <td id=\"T_fb4cb702_2621_11ec_a37f_0242ac1c0002row2_col8\" class=\"data row2 col8\" >10.000000</td>\n",
              "                        <td id=\"T_fb4cb702_2621_11ec_a37f_0242ac1c0002row2_col9\" class=\"data row2 col9\" >liblinear</td>\n",
              "                        <td id=\"T_fb4cb702_2621_11ec_a37f_0242ac1c0002row2_col10\" class=\"data row2 col10\" >{'C': 10, 'class_weight': None...</td>\n",
              "                        <td id=\"T_fb4cb702_2621_11ec_a37f_0242ac1c0002row2_col11\" class=\"data row2 col11\" >mikedparrott</td>\n",
              "                        <td id=\"T_fb4cb702_2621_11ec_a37f_0242ac1c0002row2_col12\" class=\"data row2 col12\" >1</td>\n",
              "            </tr>\n",
              "            <tr>\n",
              "                        <th id=\"T_fb4cb702_2621_11ec_a37f_0242ac1c0002level0_row3\" class=\"row_heading level0 row3\" >3</th>\n",
              "                        <td id=\"T_fb4cb702_2621_11ec_a37f_0242ac1c0002row3_col0\" class=\"data row3 col0\" >77.86%</td>\n",
              "                        <td id=\"T_fb4cb702_2621_11ec_a37f_0242ac1c0002row3_col1\" class=\"data row3 col1\" >75.94%</td>\n",
              "                        <td id=\"T_fb4cb702_2621_11ec_a37f_0242ac1c0002row3_col2\" class=\"data row3 col2\" >75.72%</td>\n",
              "                        <td id=\"T_fb4cb702_2621_11ec_a37f_0242ac1c0002row3_col3\" class=\"data row3 col3\" >76.21%</td>\n",
              "                        <td id=\"T_fb4cb702_2621_11ec_a37f_0242ac1c0002row3_col4\" class=\"data row3 col4\" >sklearn</td>\n",
              "                        <td id=\"T_fb4cb702_2621_11ec_a37f_0242ac1c0002row3_col5\" class=\"data row3 col5\" >False</td>\n",
              "                        <td id=\"T_fb4cb702_2621_11ec_a37f_0242ac1c0002row3_col6\" class=\"data row3 col6\" >False</td>\n",
              "                        <td id=\"T_fb4cb702_2621_11ec_a37f_0242ac1c0002row3_col7\" class=\"data row3 col7\" >LogisticRegression</td>\n",
              "                        <td id=\"T_fb4cb702_2621_11ec_a37f_0242ac1c0002row3_col8\" class=\"data row3 col8\" >10.000000</td>\n",
              "                        <td id=\"T_fb4cb702_2621_11ec_a37f_0242ac1c0002row3_col9\" class=\"data row3 col9\" >liblinear</td>\n",
              "                        <td id=\"T_fb4cb702_2621_11ec_a37f_0242ac1c0002row3_col10\" class=\"data row3 col10\" >{'C': 4, 'class_weight': None,...</td>\n",
              "                        <td id=\"T_fb4cb702_2621_11ec_a37f_0242ac1c0002row3_col11\" class=\"data row3 col11\" >mikedparrott</td>\n",
              "                        <td id=\"T_fb4cb702_2621_11ec_a37f_0242ac1c0002row3_col12\" class=\"data row3 col12\" >3</td>\n",
              "            </tr>\n",
              "            <tr>\n",
              "                        <th id=\"T_fb4cb702_2621_11ec_a37f_0242ac1c0002level0_row4\" class=\"row_heading level0 row4\" >4</th>\n",
              "                        <td id=\"T_fb4cb702_2621_11ec_a37f_0242ac1c0002row4_col0\" class=\"data row4 col0\" >77.86%</td>\n",
              "                        <td id=\"T_fb4cb702_2621_11ec_a37f_0242ac1c0002row4_col1\" class=\"data row4 col1\" >75.94%</td>\n",
              "                        <td id=\"T_fb4cb702_2621_11ec_a37f_0242ac1c0002row4_col2\" class=\"data row4 col2\" >75.72%</td>\n",
              "                        <td id=\"T_fb4cb702_2621_11ec_a37f_0242ac1c0002row4_col3\" class=\"data row4 col3\" >76.21%</td>\n",
              "                        <td id=\"T_fb4cb702_2621_11ec_a37f_0242ac1c0002row4_col4\" class=\"data row4 col4\" >sklearn</td>\n",
              "                        <td id=\"T_fb4cb702_2621_11ec_a37f_0242ac1c0002row4_col5\" class=\"data row4 col5\" >False</td>\n",
              "                        <td id=\"T_fb4cb702_2621_11ec_a37f_0242ac1c0002row4_col6\" class=\"data row4 col6\" >False</td>\n",
              "                        <td id=\"T_fb4cb702_2621_11ec_a37f_0242ac1c0002row4_col7\" class=\"data row4 col7\" >LogisticRegression</td>\n",
              "                        <td id=\"T_fb4cb702_2621_11ec_a37f_0242ac1c0002row4_col8\" class=\"data row4 col8\" >10.000000</td>\n",
              "                        <td id=\"T_fb4cb702_2621_11ec_a37f_0242ac1c0002row4_col9\" class=\"data row4 col9\" >liblinear</td>\n",
              "                        <td id=\"T_fb4cb702_2621_11ec_a37f_0242ac1c0002row4_col10\" class=\"data row4 col10\" >{'C': 4, 'class_weight': None,...</td>\n",
              "                        <td id=\"T_fb4cb702_2621_11ec_a37f_0242ac1c0002row4_col11\" class=\"data row4 col11\" >mikedparrott</td>\n",
              "                        <td id=\"T_fb4cb702_2621_11ec_a37f_0242ac1c0002row4_col12\" class=\"data row4 col12\" >4</td>\n",
              "            </tr>\n",
              "            <tr>\n",
              "                        <th id=\"T_fb4cb702_2621_11ec_a37f_0242ac1c0002level0_row5\" class=\"row_heading level0 row5\" >5</th>\n",
              "                        <td id=\"T_fb4cb702_2621_11ec_a37f_0242ac1c0002row5_col0\" class=\"data row5 col0\" >77.86%</td>\n",
              "                        <td id=\"T_fb4cb702_2621_11ec_a37f_0242ac1c0002row5_col1\" class=\"data row5 col1\" >75.94%</td>\n",
              "                        <td id=\"T_fb4cb702_2621_11ec_a37f_0242ac1c0002row5_col2\" class=\"data row5 col2\" >75.72%</td>\n",
              "                        <td id=\"T_fb4cb702_2621_11ec_a37f_0242ac1c0002row5_col3\" class=\"data row5 col3\" >76.21%</td>\n",
              "                        <td id=\"T_fb4cb702_2621_11ec_a37f_0242ac1c0002row5_col4\" class=\"data row5 col4\" >sklearn</td>\n",
              "                        <td id=\"T_fb4cb702_2621_11ec_a37f_0242ac1c0002row5_col5\" class=\"data row5 col5\" >False</td>\n",
              "                        <td id=\"T_fb4cb702_2621_11ec_a37f_0242ac1c0002row5_col6\" class=\"data row5 col6\" >False</td>\n",
              "                        <td id=\"T_fb4cb702_2621_11ec_a37f_0242ac1c0002row5_col7\" class=\"data row5 col7\" >LogisticRegression</td>\n",
              "                        <td id=\"T_fb4cb702_2621_11ec_a37f_0242ac1c0002row5_col8\" class=\"data row5 col8\" >10.000000</td>\n",
              "                        <td id=\"T_fb4cb702_2621_11ec_a37f_0242ac1c0002row5_col9\" class=\"data row5 col9\" >liblinear</td>\n",
              "                        <td id=\"T_fb4cb702_2621_11ec_a37f_0242ac1c0002row5_col10\" class=\"data row5 col10\" >{'C': 4, 'class_weight': None,...</td>\n",
              "                        <td id=\"T_fb4cb702_2621_11ec_a37f_0242ac1c0002row5_col11\" class=\"data row5 col11\" >mikedparrott</td>\n",
              "                        <td id=\"T_fb4cb702_2621_11ec_a37f_0242ac1c0002row5_col12\" class=\"data row5 col12\" >5</td>\n",
              "            </tr>\n",
              "            <tr>\n",
              "                        <th id=\"T_fb4cb702_2621_11ec_a37f_0242ac1c0002level0_row6\" class=\"row_heading level0 row6\" >6</th>\n",
              "                        <td id=\"T_fb4cb702_2621_11ec_a37f_0242ac1c0002row6_col0\" class=\"data row6 col0\" >77.86%</td>\n",
              "                        <td id=\"T_fb4cb702_2621_11ec_a37f_0242ac1c0002row6_col1\" class=\"data row6 col1\" >75.94%</td>\n",
              "                        <td id=\"T_fb4cb702_2621_11ec_a37f_0242ac1c0002row6_col2\" class=\"data row6 col2\" >75.72%</td>\n",
              "                        <td id=\"T_fb4cb702_2621_11ec_a37f_0242ac1c0002row6_col3\" class=\"data row6 col3\" >76.21%</td>\n",
              "                        <td id=\"T_fb4cb702_2621_11ec_a37f_0242ac1c0002row6_col4\" class=\"data row6 col4\" >sklearn</td>\n",
              "                        <td id=\"T_fb4cb702_2621_11ec_a37f_0242ac1c0002row6_col5\" class=\"data row6 col5\" >False</td>\n",
              "                        <td id=\"T_fb4cb702_2621_11ec_a37f_0242ac1c0002row6_col6\" class=\"data row6 col6\" >False</td>\n",
              "                        <td id=\"T_fb4cb702_2621_11ec_a37f_0242ac1c0002row6_col7\" class=\"data row6 col7\" >LogisticRegression</td>\n",
              "                        <td id=\"T_fb4cb702_2621_11ec_a37f_0242ac1c0002row6_col8\" class=\"data row6 col8\" >10.000000</td>\n",
              "                        <td id=\"T_fb4cb702_2621_11ec_a37f_0242ac1c0002row6_col9\" class=\"data row6 col9\" >liblinear</td>\n",
              "                        <td id=\"T_fb4cb702_2621_11ec_a37f_0242ac1c0002row6_col10\" class=\"data row6 col10\" >{'C': 100, 'class_weight': Non...</td>\n",
              "                        <td id=\"T_fb4cb702_2621_11ec_a37f_0242ac1c0002row6_col11\" class=\"data row6 col11\" >mikedparrott</td>\n",
              "                        <td id=\"T_fb4cb702_2621_11ec_a37f_0242ac1c0002row6_col12\" class=\"data row6 col12\" >6</td>\n",
              "            </tr>\n",
              "            <tr>\n",
              "                        <th id=\"T_fb4cb702_2621_11ec_a37f_0242ac1c0002level0_row7\" class=\"row_heading level0 row7\" >7</th>\n",
              "                        <td id=\"T_fb4cb702_2621_11ec_a37f_0242ac1c0002row7_col0\" class=\"data row7 col0\" >77.86%</td>\n",
              "                        <td id=\"T_fb4cb702_2621_11ec_a37f_0242ac1c0002row7_col1\" class=\"data row7 col1\" >75.83%</td>\n",
              "                        <td id=\"T_fb4cb702_2621_11ec_a37f_0242ac1c0002row7_col2\" class=\"data row7 col2\" >75.71%</td>\n",
              "                        <td id=\"T_fb4cb702_2621_11ec_a37f_0242ac1c0002row7_col3\" class=\"data row7 col3\" >75.96%</td>\n",
              "                        <td id=\"T_fb4cb702_2621_11ec_a37f_0242ac1c0002row7_col4\" class=\"data row7 col4\" >sklearn</td>\n",
              "                        <td id=\"T_fb4cb702_2621_11ec_a37f_0242ac1c0002row7_col5\" class=\"data row7 col5\" >False</td>\n",
              "                        <td id=\"T_fb4cb702_2621_11ec_a37f_0242ac1c0002row7_col6\" class=\"data row7 col6\" >False</td>\n",
              "                        <td id=\"T_fb4cb702_2621_11ec_a37f_0242ac1c0002row7_col7\" class=\"data row7 col7\" >LogisticRegression</td>\n",
              "                        <td id=\"T_fb4cb702_2621_11ec_a37f_0242ac1c0002row7_col8\" class=\"data row7 col8\" >10.000000</td>\n",
              "                        <td id=\"T_fb4cb702_2621_11ec_a37f_0242ac1c0002row7_col9\" class=\"data row7 col9\" >liblinear</td>\n",
              "                        <td id=\"T_fb4cb702_2621_11ec_a37f_0242ac1c0002row7_col10\" class=\"data row7 col10\" >{'C': 1, 'class_weight': None,...</td>\n",
              "                        <td id=\"T_fb4cb702_2621_11ec_a37f_0242ac1c0002row7_col11\" class=\"data row7 col11\" >mikedparrott</td>\n",
              "                        <td id=\"T_fb4cb702_2621_11ec_a37f_0242ac1c0002row7_col12\" class=\"data row7 col12\" >8</td>\n",
              "            </tr>\n",
              "            <tr>\n",
              "                        <th id=\"T_fb4cb702_2621_11ec_a37f_0242ac1c0002level0_row8\" class=\"row_heading level0 row8\" >8</th>\n",
              "                        <td id=\"T_fb4cb702_2621_11ec_a37f_0242ac1c0002row8_col0\" class=\"data row8 col0\" >77.86%</td>\n",
              "                        <td id=\"T_fb4cb702_2621_11ec_a37f_0242ac1c0002row8_col1\" class=\"data row8 col1\" >75.83%</td>\n",
              "                        <td id=\"T_fb4cb702_2621_11ec_a37f_0242ac1c0002row8_col2\" class=\"data row8 col2\" >75.71%</td>\n",
              "                        <td id=\"T_fb4cb702_2621_11ec_a37f_0242ac1c0002row8_col3\" class=\"data row8 col3\" >75.96%</td>\n",
              "                        <td id=\"T_fb4cb702_2621_11ec_a37f_0242ac1c0002row8_col4\" class=\"data row8 col4\" >sklearn</td>\n",
              "                        <td id=\"T_fb4cb702_2621_11ec_a37f_0242ac1c0002row8_col5\" class=\"data row8 col5\" >False</td>\n",
              "                        <td id=\"T_fb4cb702_2621_11ec_a37f_0242ac1c0002row8_col6\" class=\"data row8 col6\" >False</td>\n",
              "                        <td id=\"T_fb4cb702_2621_11ec_a37f_0242ac1c0002row8_col7\" class=\"data row8 col7\" >LogisticRegression</td>\n",
              "                        <td id=\"T_fb4cb702_2621_11ec_a37f_0242ac1c0002row8_col8\" class=\"data row8 col8\" >10.000000</td>\n",
              "                        <td id=\"T_fb4cb702_2621_11ec_a37f_0242ac1c0002row8_col9\" class=\"data row8 col9\" >newton-cg</td>\n",
              "                        <td id=\"T_fb4cb702_2621_11ec_a37f_0242ac1c0002row8_col10\" class=\"data row8 col10\" >{'C': 0.30000000000000004, 'cl...</td>\n",
              "                        <td id=\"T_fb4cb702_2621_11ec_a37f_0242ac1c0002row8_col11\" class=\"data row8 col11\" >mikedparrott</td>\n",
              "                        <td id=\"T_fb4cb702_2621_11ec_a37f_0242ac1c0002row8_col12\" class=\"data row8 col12\" >9</td>\n",
              "            </tr>\n",
              "            <tr>\n",
              "                        <th id=\"T_fb4cb702_2621_11ec_a37f_0242ac1c0002level0_row9\" class=\"row_heading level0 row9\" >9</th>\n",
              "                        <td id=\"T_fb4cb702_2621_11ec_a37f_0242ac1c0002row9_col0\" class=\"data row9 col0\" >73.28%</td>\n",
              "                        <td id=\"T_fb4cb702_2621_11ec_a37f_0242ac1c0002row9_col1\" class=\"data row9 col1\" >62.17%</td>\n",
              "                        <td id=\"T_fb4cb702_2621_11ec_a37f_0242ac1c0002row9_col2\" class=\"data row9 col2\" >80.33%</td>\n",
              "                        <td id=\"T_fb4cb702_2621_11ec_a37f_0242ac1c0002row9_col3\" class=\"data row9 col3\" >62.70%</td>\n",
              "                        <td id=\"T_fb4cb702_2621_11ec_a37f_0242ac1c0002row9_col4\" class=\"data row9 col4\" >sklearn</td>\n",
              "                        <td id=\"T_fb4cb702_2621_11ec_a37f_0242ac1c0002row9_col5\" class=\"data row9 col5\" >False</td>\n",
              "                        <td id=\"T_fb4cb702_2621_11ec_a37f_0242ac1c0002row9_col6\" class=\"data row9 col6\" >False</td>\n",
              "                        <td id=\"T_fb4cb702_2621_11ec_a37f_0242ac1c0002row9_col7\" class=\"data row9 col7\" >LogisticRegression</td>\n",
              "                        <td id=\"T_fb4cb702_2621_11ec_a37f_0242ac1c0002row9_col8\" class=\"data row9 col8\" >10.000000</td>\n",
              "                        <td id=\"T_fb4cb702_2621_11ec_a37f_0242ac1c0002row9_col9\" class=\"data row9 col9\" >liblinear</td>\n",
              "                        <td id=\"T_fb4cb702_2621_11ec_a37f_0242ac1c0002row9_col10\" class=\"data row9 col10\" >{'C': 0.01, 'class_weight': No...</td>\n",
              "                        <td id=\"T_fb4cb702_2621_11ec_a37f_0242ac1c0002row9_col11\" class=\"data row9 col11\" >mikedparrott</td>\n",
              "                        <td id=\"T_fb4cb702_2621_11ec_a37f_0242ac1c0002row9_col12\" class=\"data row9 col12\" >2</td>\n",
              "            </tr>\n",
              "            <tr>\n",
              "                        <th id=\"T_fb4cb702_2621_11ec_a37f_0242ac1c0002level0_row10\" class=\"row_heading level0 row10\" >10</th>\n",
              "                        <td id=\"T_fb4cb702_2621_11ec_a37f_0242ac1c0002row10_col0\" class=\"data row10 col0\" >73.28%</td>\n",
              "                        <td id=\"T_fb4cb702_2621_11ec_a37f_0242ac1c0002row10_col1\" class=\"data row10 col1\" >62.17%</td>\n",
              "                        <td id=\"T_fb4cb702_2621_11ec_a37f_0242ac1c0002row10_col2\" class=\"data row10 col2\" >80.33%</td>\n",
              "                        <td id=\"T_fb4cb702_2621_11ec_a37f_0242ac1c0002row10_col3\" class=\"data row10 col3\" >62.70%</td>\n",
              "                        <td id=\"T_fb4cb702_2621_11ec_a37f_0242ac1c0002row10_col4\" class=\"data row10 col4\" >sklearn</td>\n",
              "                        <td id=\"T_fb4cb702_2621_11ec_a37f_0242ac1c0002row10_col5\" class=\"data row10 col5\" >False</td>\n",
              "                        <td id=\"T_fb4cb702_2621_11ec_a37f_0242ac1c0002row10_col6\" class=\"data row10 col6\" >False</td>\n",
              "                        <td id=\"T_fb4cb702_2621_11ec_a37f_0242ac1c0002row10_col7\" class=\"data row10 col7\" >LogisticRegression</td>\n",
              "                        <td id=\"T_fb4cb702_2621_11ec_a37f_0242ac1c0002row10_col8\" class=\"data row10 col8\" >10.000000</td>\n",
              "                        <td id=\"T_fb4cb702_2621_11ec_a37f_0242ac1c0002row10_col9\" class=\"data row10 col9\" >liblinear</td>\n",
              "                        <td id=\"T_fb4cb702_2621_11ec_a37f_0242ac1c0002row10_col10\" class=\"data row10 col10\" >{'C': 0.01, 'class_weight': No...</td>\n",
              "                        <td id=\"T_fb4cb702_2621_11ec_a37f_0242ac1c0002row10_col11\" class=\"data row10 col11\" >mikedparrott</td>\n",
              "                        <td id=\"T_fb4cb702_2621_11ec_a37f_0242ac1c0002row10_col12\" class=\"data row10 col12\" >7</td>\n",
              "            </tr>\n",
              "    </tbody></table>"
            ],
            "text/plain": [
              "<pandas.io.formats.style.Styler at 0x7f5c91c33dd0>"
            ]
          },
          "metadata": {},
          "execution_count": 62
        }
      ]
    }
  ]
}